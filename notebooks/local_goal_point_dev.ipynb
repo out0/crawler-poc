{
 "cells": [
  {
   "cell_type": "code",
   "execution_count": 1,
   "metadata": {},
   "outputs": [],
   "source": [
    "import sys\n",
    "sys.path.append(\"..\")\n",
    "from planner.simple_slam import SimpleSlam\n",
    "from planner.waypoint import Waypoint\n",
    "from planner.occupancy_grid import OccupancyGrid\n",
    "from planner.vehicle_pose import VehiclePose\n",
    "import cv2\n",
    "\n",
    "bev_frame = cv2.imread(\"bev_0.png\")\n",
    "grid = OccupancyGrid(bev_frame, 4, 3)"
   ]
  },
  {
   "cell_type": "code",
   "execution_count": 2,
   "metadata": {},
   "outputs": [
    {
     "name": "stdout",
     "output_type": "stream",
     "text": [
      "goal: (30.538480758666992, -0.07999785244464874, heading: 0.1614825427532196)\n",
      "top_left: (-6.512731933593749, 14.931888499855994, heading: 0)\n",
      "top_right: (29.197768066406248, 14.931888499855994, heading: 0)\n",
      "bottom_left: (-6.512731933593749, -14.768778166810671, heading: 0)\n",
      "bottom_right: (29.197768066406248, -14.768778166810671, heading: 0)\n",
      "derivada v-base: 0.005842192928273063\n",
      "derivada top_left: 2.4474041299490312\n",
      "derivada top_right: 0.6966543206751773\n",
      "derivada bottom_left: -2.4506911127608624\n",
      "derivada bottom_right: -0.6933643342415902\n",
      "point (30.538480758666992, -0.07999785244464874, heading: 0.1614825427532196) is on LEFT: between (-6.512731933593749, -14.768778166810671, heading: 0) and (-6.512731933593749, 14.931888499855994, heading: 0)\n"
     ]
    }
   ],
   "source": [
    "start = VehiclePose(11.38726806640625, 0.03188849985599518, -0.373138427734375)\n",
    "global_goal = VehiclePose(30.538480758666992, -0.07999785244464874, 0.1614825427532196)\n",
    "\n",
    "grid.find_best_local_goal_waypoint(start, global_goal)"
   ]
  }
 ],
 "metadata": {
  "kernelspec": {
   "display_name": "Python 3",
   "language": "python",
   "name": "python3"
  },
  "language_info": {
   "codemirror_mode": {
    "name": "ipython",
    "version": 3
   },
   "file_extension": ".py",
   "mimetype": "text/x-python",
   "name": "python",
   "nbconvert_exporter": "python",
   "pygments_lexer": "ipython3",
   "version": "3.8.10"
  }
 },
 "nbformat": 4,
 "nbformat_minor": 2
}
