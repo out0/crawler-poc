{
 "cells": [
  {
   "cell_type": "code",
   "execution_count": 1,
   "metadata": {},
   "outputs": [
    {
     "name": "stderr",
     "output_type": "stream",
     "text": [
      "/workspaces/crawler-poc/notebooks/../carlasim/video_streamer.py:1: PyGIWarning: Gst was imported without specifying a version first. Use gi.require_version('Gst', '1.0') before import to ensure that the right version gets loaded.\n",
      "  from gi.repository import Gst\n"
     ]
    },
    {
     "data": {
      "text/plain": [
       "[]"
      ]
     },
     "execution_count": 1,
     "metadata": {},
     "output_type": "execute_result"
    }
   ],
   "source": [
    "import sys, time\n",
    "sys.path.append(\"..\")\n",
    "\n",
    "from carlasim.carla_client import CarlaClient\n",
    "from carlasim.ego_car import EgoCar\n",
    "from planner.stub_slam import StubSLAM\n",
    "from planner.stub_global_planner import StubGlobalPlanner\n",
    "from motion.path_position_finder import PathPositionFinder\n",
    "import carla\n",
    "from model.vehicle_pose import VehiclePose\n",
    "from typing import List\n",
    "\n",
    "import gi\n",
    "gi.require_version('Gst', '1.0')\n",
    "gi.require_version('GstRtspServer', '1.0')\n",
    "from gi.repository import Gst, GLib\n",
    "Gst.init(None)"
   ]
  },
  {
   "cell_type": "code",
   "execution_count": 2,
   "metadata": {},
   "outputs": [],
   "source": [
    "StartPosition = ['Town07', -100, 0, 0, 0.0]\n",
    "global_planner = StubGlobalPlanner()\n",
    "global_planner.read_mission(\"./small_mission.dat\")\n",
    "client = CarlaClient(town=StartPosition[0])\n",
    "ego = EgoCar(client)\n",
    "ego.set_pose(StartPosition[1], StartPosition[2], StartPosition[3], StartPosition[4])\n",
    "ego.set_power(0)\n",
    "ego.set_steering(0)"
   ]
  },
  {
   "cell_type": "markdown",
   "metadata": {},
   "source": []
  },
  {
   "cell_type": "code",
   "execution_count": null,
   "metadata": {},
   "outputs": [],
   "source": [
    "def redraw_path():\n",
    "    world = client.get_world()\n",
    "\n",
    "    for w in global_planner.get_all_poses():    \n",
    "        world.debug.draw_string(carla.Location(w.x, w.y, 2), 'O', draw_shadow=False,\n",
    "                                        color=carla.Color(r=255, g=0, b=0), life_time=120.0,\n",
    "                                        persistent_lines=True)\n"
   ]
  },
  {
   "cell_type": "markdown",
   "metadata": {},
   "source": [
    "Path Position Finder"
   ]
  },
  {
   "cell_type": "code",
   "execution_count": null,
   "metadata": {},
   "outputs": [],
   "source": [
    "\n",
    "def mark_pose(path: List[VehiclePose], pos: int):\n",
    "    redraw_path()\n",
    "    world = client.get_world()\n",
    "    world.debug.draw_string(carla.Location(path[pos].x, path[pos].y, 2), 'X', draw_shadow=False,\n",
    "    color=carla.Color(r=0, g=255, b=0), life_time=120.0, persistent_lines=True)\n",
    "    \n",
    "    world.debug.draw_string(carla.Location(path[pos+1].x, path[pos+1].y, 2), 'X', draw_shadow=False,\n",
    "    color=carla.Color(r=0, g=255, b=0), life_time=120.0, persistent_lines=True)"
   ]
  },
  {
   "cell_type": "markdown",
   "metadata": {},
   "source": [
    "Testing cases"
   ]
  },
  {
   "cell_type": "code",
   "execution_count": 5,
   "metadata": {},
   "outputs": [
    {
     "name": "stdout",
     "output_type": "stream",
     "text": [
      "in range for [0 - 1]\n"
     ]
    }
   ],
   "source": [
    "path = global_planner.get_all_poses()\n",
    "slam = StubSLAM(ego)\n",
    "\n",
    "position_finder = PathPositionFinder(path)\n",
    "ego.set_pose(-100, 0, 0, 0)\n",
    "time.sleep(0.5)\n",
    "i = position_finder.find_next_pos(slam.estimate_ego_pose())\n",
    "if i < 0:\n",
    "    print (\"error, should be > 0\")\n",
    "else:\n",
    "    mark_pose(path, i)"
   ]
  }
 ],
 "metadata": {
  "kernelspec": {
   "display_name": "Python 3 (ipykernel)",
   "language": "python",
   "name": "python3"
  },
  "language_info": {
   "codemirror_mode": {
    "name": "ipython",
    "version": 3
   },
   "file_extension": ".py",
   "mimetype": "text/x-python",
   "name": "python",
   "nbconvert_exporter": "python",
   "pygments_lexer": "ipython3",
   "version": "3.10.12"
  }
 },
 "nbformat": 4,
 "nbformat_minor": 2
}
