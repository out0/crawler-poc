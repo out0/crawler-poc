{
 "cells": [
  {
   "cell_type": "code",
   "execution_count": 1,
   "metadata": {},
   "outputs": [],
   "source": [
    "#https://ideepaksinghs.wordpress.com/2021/04/11/creating-a-self-driving-car-in-24-hour/\n",
    "import sys\n",
    "sys.path.append(\"..\")\n",
    "from carlasim.vehicle_hal import EgoCar\n",
    "from carlasim.carla_client import CarlaClient\n",
    "from carlasim.remote_controller import RemoteController\n",
    "from carlasim.mqtt_client import MqttClient\n",
    "from carlasim.frame_segment_converter_cuda import FrameSegmentConverterCuda\n",
    "from carlasim.video_streamer import VideoStreamer\n",
    "from planner.simple_slam import SimpleSlam\n",
    "from planner.waypoint import Waypoint\n",
    "import io\n",
    "\n",
    "import gi\n",
    "gi.require_version('Gst', '1.0')\n",
    "gi.require_version('GstRtspServer', '1.0')\n",
    "from gi.repository import Gst, GLib\n",
    "Gst.init(None)\n",
    "\n",
    "client = CarlaClient(town='Town07')\n",
    "segment_converter = FrameSegmentConverterCuda()\n"
   ]
  },
  {
   "cell_type": "code",
   "execution_count": 2,
   "metadata": {},
   "outputs": [],
   "source": [
    "car = EgoCar(client)\\\n",
    "    .with_bev_camera(20000, on_frame_callback=lambda f: car.send_bev_frame( segment_converter.convert_frame(VideoStreamer.to_rgb_array(f))))\\\n",
    "    .build()\n",
    "car.set_pose(0, 0, 0)\n"
   ]
  },
  {
   "cell_type": "code",
   "execution_count": 3,
   "metadata": {},
   "outputs": [],
   "source": [
    "car2 = EgoCar(client)\\\n",
    "    .with_bev_camera(-1, lambda f: None)\\\n",
    "    .set_color(0,255,0)\\\n",
    "    .build()\n",
    "car2.set_pose(10, 0, 0)\n",
    "\n",
    "car3 = EgoCar(client)\\\n",
    "    .with_bev_camera(-1, lambda f: None)\\\n",
    "    .set_color(255,0,0)\\\n",
    "    .build() \n",
    "\n",
    "car3.set_pose(0, 10, 0)\n",
    "\n",
    "#https://carla.readthedocs.io/en/latest/tuto_G_bounding_boxes/"
   ]
  },
  {
   "cell_type": "code",
   "execution_count": 6,
   "metadata": {},
   "outputs": [],
   "source": [
    "x = -25\n",
    "y = 0\n",
    "\n",
    "car.set_pose(x, y, 0)\n",
    "car2.set_pose(x + SimpleSlam.DIST_FRONT, 0, 0)\n",
    "car3.set_pose(x, y -SimpleSlam.DIST_LEFT, 0)\n"
   ]
  },
  {
   "cell_type": "code",
   "execution_count": 14,
   "metadata": {},
   "outputs": [
    {
     "name": "stdout",
     "output_type": "stream",
     "text": [
      "Location(x=-25.000002, y=0.000030, z=0.032080)\n",
      "Location(x=-11.581527, y=3.013085, z=0.102168)\n",
      "(-11.574951946481054, -2.979693226757429, -11.308866298963592)\n"
     ]
    }
   ],
   "source": [
    "\n",
    "slam = SimpleSlam(400, 300, 0.0, 0.0)\n",
    "location = car.get_location()\n",
    "location2 = car2.get_location()\n",
    "\n",
    "print(location)\n",
    "print (location2)\n",
    "\n",
    "\n",
    "goal = Waypoint(170, 0)\n",
    "\n",
    "new_location = slam.estimate_next_pose(car, goal)\n",
    "print(new_location)\n",
    "car2.set_pose(new_location[0], new_location[1], new_location[2])\n",
    "\n",
    "\n"
   ]
  }
 ],
 "metadata": {
  "kernelspec": {
   "display_name": "Python 3 (ipykernel)",
   "language": "python",
   "name": "python3"
  },
  "language_info": {
   "codemirror_mode": {
    "name": "ipython",
    "version": 3
   },
   "file_extension": ".py",
   "mimetype": "text/x-python",
   "name": "python",
   "nbconvert_exporter": "python",
   "pygments_lexer": "ipython3",
   "version": "3.10.12"
  }
 },
 "nbformat": 4,
 "nbformat_minor": 2
}
