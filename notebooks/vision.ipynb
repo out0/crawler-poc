{
 "cells": [
  {
   "cell_type": "code",
   "execution_count": 1,
   "metadata": {},
   "outputs": [
    {
     "name": "stdout",
     "output_type": "stream",
     "text": [
      "warning:  importing jetson.utils is deprecated.  please 'import jetson_utils' instead.\n"
     ]
    }
   ],
   "source": [
    "import sys\n",
    "import cv2\n",
    "from typing import List\n",
    "from acquisition.source_camera_from_video_dataset import SourceCameraVideoDataset\n",
    "from segmentation import Segmentation\n",
    "import numpy as np\n"
   ]
  },
  {
   "cell_type": "code",
   "execution_count": 2,
   "metadata": {},
   "outputs": [],
   "source": [
    "camera = SourceCameraVideoDataset(\"/home/cristiano/dataset.mp4\")\n",
    "\n",
    "segmentation = Segmentation()\n",
    "\n",
    "bpath = \"/home/cristiano/mestrado/vision-module/neuralnet\"\n",
    "\n",
    "segmentation.setupNetwork(\n",
    "    f\"{bpath}/rtkbosque.onnx\",\n",
    "    f\"{bpath}/rtkbosque_classes.txt\",\n",
    "    f\"{bpath}/rtkbosque_colors.txt\",\n",
    "    353,\n",
    "    288,\n",
    "    \"input\",\n",
    "    \"output\"\n",
    ")"
   ]
  },
  {
   "cell_type": "code",
   "execution_count": 3,
   "metadata": {},
   "outputs": [],
   "source": [
    "frame = camera.capture()\n",
    "segmentation.segment(frame)"
   ]
  },
  {
   "cell_type": "code",
   "execution_count": 9,
   "metadata": {},
   "outputs": [],
   "source": [
    "class BEVGenerator_1920x:\n",
    "\n",
    "    def __init__(self, grid_dims=(500, 700), edge_size=1e-2):\n",
    "        self.R = np.array([[ 0.99792479,  0.02269552, -0.06025794],\n",
    "                           [-0.03158676,  0.98803323, -0.15097222],\n",
    "                           [ 0.05611045,  0.15256228,  0.98669974]])\n",
    "\n",
    "        self.tvec = np.array([[0.023667  ],\n",
    "                              [0.34899726],\n",
    "                              [0.91836986]])\n",
    "\n",
    "        self.mtx = np.array([[967.24986511,   0.        , 981.31348404],\n",
    "                             [  0.        , 988.70685899, 728.97850079],\n",
    "                             [  0.        ,   0.        ,   1.        ]])\n",
    "\n",
    "        self.dist = np.array([[ 0.00371372, -0.00157878,  0.00621299,  0.00757212,  0.00170795]])\n",
    "\n",
    "        self.uv_dims = (1440, 1920) # h x w\n",
    "        self.grid_dims = grid_dims\n",
    "        self.edge_size = edge_size\n",
    "        self._compute_uvcoords()\n",
    "\n",
    "    def _compute_uvcoords(self):\n",
    "        cam_offset_Z = (-self.tvec[[2]] + 10e-2) / self.edge_size\n",
    "        cam_offset_X = (-self.tvec[[0]]) / self.edge_size\n",
    "\n",
    "        og_grid = np.concatenate(\n",
    "                        np.meshgrid(\n",
    "                            np.arange(- self.grid_dims[0] // 2 + cam_offset_X, (self.grid_dims[0] + .999) // 2 + cam_offset_X, 1),\n",
    "                            0 , # I want only the floor information, such that height = 0\n",
    "                            np.arange(self.grid_dims[1] + cam_offset_Z - 1, cam_offset_Z - .999, -1),\n",
    "                            1\n",
    "                            )\n",
    "                        )\n",
    "\n",
    "        og_grid = np.moveaxis(og_grid, 0, 2)\n",
    "        og_grid_3dcoords = og_grid.copy()\n",
    "        og_grid_3dcoords[:, :, :3, :] *= self.edge_size\n",
    "\n",
    "        # Transform the world coords to cam coords\n",
    "        RT = np.eye(4)\n",
    "        RT[:3, :3] = self.R\n",
    "        RT[:3, 3] = self.tvec.ravel()\n",
    "        og_grid_camcoords = (RT @ og_grid_3dcoords.reshape(-1, 4).T)\n",
    "        og_grid_camcoords = og_grid_camcoords.T.reshape(self.grid_dims + (4,))\n",
    "        og_grid_camcoords /= og_grid_camcoords[..., [2]]\n",
    "        og_grid_camcoords = og_grid_camcoords[..., :3]\n",
    "\n",
    "        # Transform the cam coords to image coords\n",
    "        og_grid_uvcoords = (self.mtx @ og_grid_camcoords.reshape(-1, 3).T)\n",
    "        og_grid_uvcoords = og_grid_uvcoords.T.reshape(self.grid_dims + (3,))\n",
    "        og_grid_uvcoords = og_grid_uvcoords.round().astype(int)\n",
    "        og_grid_uvcoords = og_grid_uvcoords[..., :2]\n",
    "        og_grid_uvcoords = np.moveaxis(og_grid_uvcoords, 0, 1)\n",
    "\n",
    "        og_grid_uvcoords[..., 1] = og_grid_uvcoords[..., 1].clip(0, self.uv_dims[0])\n",
    "        og_grid_uvcoords[..., 0] = og_grid_uvcoords[..., 0].clip(0, self.uv_dims[1])\n",
    "        self.og_grid_uvcoords = og_grid_uvcoords\n",
    "\n",
    "    def __call__(self, x):\n",
    "        x = np.pad(x, ((0, 1), (0, 1), (0, 0)), mode='constant', constant_values=0)\n",
    "        return x[self.og_grid_uvcoords[..., 1], self.og_grid_uvcoords[..., 0]]"
   ]
  },
  {
   "cell_type": "code",
   "execution_count": 10,
   "metadata": {},
   "outputs": [
    {
     "data": {
      "text/plain": [
       "True"
      ]
     },
     "execution_count": 10,
     "metadata": {},
     "output_type": "execute_result"
    }
   ],
   "source": [
    "bev_generator = BEVGenerator_1920x(grid_dims=(500, 500), edge_size=1e-2)\n",
    "img = segmentation.getMatrixImage()\n",
    "\n",
    "cv2.imwrite('original.png',img)\n",
    "\n"
   ]
  },
  {
   "cell_type": "code",
   "execution_count": 11,
   "metadata": {},
   "outputs": [
    {
     "ename": "IndexError",
     "evalue": "index 688 is out of bounds for axis 0 with size 289",
     "output_type": "error",
     "traceback": [
      "\u001b[0;31m---------------------------------------------------------------------------\u001b[0m",
      "\u001b[0;31mIndexError\u001b[0m                                Traceback (most recent call last)",
      "\u001b[0;32m<ipython-input-11-3886a092ad77>\u001b[0m in \u001b[0;36m<module>\u001b[0;34m\u001b[0m\n\u001b[0;32m----> 1\u001b[0;31m \u001b[0mbev\u001b[0m \u001b[0;34m=\u001b[0m \u001b[0mbev_generator\u001b[0m\u001b[0;34m(\u001b[0m\u001b[0mimg\u001b[0m\u001b[0;34m)\u001b[0m\u001b[0;34m\u001b[0m\u001b[0;34m\u001b[0m\u001b[0m\n\u001b[0m\u001b[1;32m      2\u001b[0m \u001b[0mcv2\u001b[0m\u001b[0;34m.\u001b[0m\u001b[0mimwrite\u001b[0m\u001b[0;34m(\u001b[0m\u001b[0;34m'bev.png'\u001b[0m\u001b[0;34m,\u001b[0m \u001b[0mbev\u001b[0m\u001b[0;34m)\u001b[0m\u001b[0;34m\u001b[0m\u001b[0;34m\u001b[0m\u001b[0m\n",
      "\u001b[0;32m<ipython-input-9-15ae1bff9822>\u001b[0m in \u001b[0;36m__call__\u001b[0;34m(self, x)\u001b[0m\n\u001b[1;32m     60\u001b[0m     \u001b[0;32mdef\u001b[0m \u001b[0m__call__\u001b[0m\u001b[0;34m(\u001b[0m\u001b[0mself\u001b[0m\u001b[0;34m,\u001b[0m \u001b[0mx\u001b[0m\u001b[0;34m)\u001b[0m\u001b[0;34m:\u001b[0m\u001b[0;34m\u001b[0m\u001b[0;34m\u001b[0m\u001b[0m\n\u001b[1;32m     61\u001b[0m         \u001b[0mx\u001b[0m \u001b[0;34m=\u001b[0m \u001b[0mnp\u001b[0m\u001b[0;34m.\u001b[0m\u001b[0mpad\u001b[0m\u001b[0;34m(\u001b[0m\u001b[0mx\u001b[0m\u001b[0;34m,\u001b[0m \u001b[0;34m(\u001b[0m\u001b[0;34m(\u001b[0m\u001b[0;36m0\u001b[0m\u001b[0;34m,\u001b[0m \u001b[0;36m1\u001b[0m\u001b[0;34m)\u001b[0m\u001b[0;34m,\u001b[0m \u001b[0;34m(\u001b[0m\u001b[0;36m0\u001b[0m\u001b[0;34m,\u001b[0m \u001b[0;36m1\u001b[0m\u001b[0;34m)\u001b[0m\u001b[0;34m,\u001b[0m \u001b[0;34m(\u001b[0m\u001b[0;36m0\u001b[0m\u001b[0;34m,\u001b[0m \u001b[0;36m0\u001b[0m\u001b[0;34m)\u001b[0m\u001b[0;34m)\u001b[0m\u001b[0;34m,\u001b[0m \u001b[0mmode\u001b[0m\u001b[0;34m=\u001b[0m\u001b[0;34m'constant'\u001b[0m\u001b[0;34m,\u001b[0m \u001b[0mconstant_values\u001b[0m\u001b[0;34m=\u001b[0m\u001b[0;36m0\u001b[0m\u001b[0;34m)\u001b[0m\u001b[0;34m\u001b[0m\u001b[0;34m\u001b[0m\u001b[0m\n\u001b[0;32m---> 62\u001b[0;31m         \u001b[0;32mreturn\u001b[0m \u001b[0mx\u001b[0m\u001b[0;34m[\u001b[0m\u001b[0mself\u001b[0m\u001b[0;34m.\u001b[0m\u001b[0mog_grid_uvcoords\u001b[0m\u001b[0;34m[\u001b[0m\u001b[0;34m...\u001b[0m\u001b[0;34m,\u001b[0m \u001b[0;36m1\u001b[0m\u001b[0;34m]\u001b[0m\u001b[0;34m,\u001b[0m \u001b[0mself\u001b[0m\u001b[0;34m.\u001b[0m\u001b[0mog_grid_uvcoords\u001b[0m\u001b[0;34m[\u001b[0m\u001b[0;34m...\u001b[0m\u001b[0;34m,\u001b[0m \u001b[0;36m0\u001b[0m\u001b[0;34m]\u001b[0m\u001b[0;34m]\u001b[0m\u001b[0;34m\u001b[0m\u001b[0;34m\u001b[0m\u001b[0m\n\u001b[0m",
      "\u001b[0;31mIndexError\u001b[0m: index 688 is out of bounds for axis 0 with size 289"
     ]
    }
   ],
   "source": [
    "bev = bev_generator(img)\n",
    "cv2.imwrite('bev.png', bev)\n"
   ]
  }
 ],
 "metadata": {
  "kernelspec": {
   "display_name": "Python 3",
   "language": "python",
   "name": "python3"
  },
  "language_info": {
   "codemirror_mode": {
    "name": "ipython",
    "version": 3
   },
   "file_extension": ".py",
   "mimetype": "text/x-python",
   "name": "python",
   "nbconvert_exporter": "python",
   "pygments_lexer": "ipython3",
   "version": "3.6.9"
  },
  "orig_nbformat": 4
 },
 "nbformat": 4,
 "nbformat_minor": 2
}
