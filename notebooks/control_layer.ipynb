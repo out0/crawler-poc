{
 "cells": [
  {
   "cell_type": "code",
   "execution_count": 1,
   "metadata": {},
   "outputs": [],
   "source": [
    "import sys\n",
    "sys.path.append(\"..\")\n",
    "from carlasim.vehicle_hal import EgoCar\n",
    "from carlasim.carla_client import CarlaClient\n",
    "from carlasim.remote_controller import RemoteController\n",
    "from carlasim.mqtt_client import MqttClient\n",
    "import io\n",
    "\n",
    "\n",
    "client = CarlaClient(town='Town07')\n",
    "car = EgoCar(client).build()\n",
    "    "
   ]
  },
  {
   "cell_type": "code",
   "execution_count": 2,
   "metadata": {},
   "outputs": [],
   "source": [
    "def on_autonomous_driving_state_change(val: bool):\n",
    "    pass\n",
    "\n",
    "manual_control = RemoteController(MqttClient('127.0.0.1', 1883), car.get_actor(), on_autonomous_driving_state_change)"
   ]
  },
  {
   "cell_type": "code",
   "execution_count": 3,
   "metadata": {},
   "outputs": [
    {
     "name": "stdout",
     "output_type": "stream",
     "text": [
      "GeoLocation(latitude=-0.000532, longitude=0.000140, altitude=0.036392)\n"
     ]
    }
   ],
   "source": [
    "map = client.get_world().get_map()\n",
    "my_geolocation = map.transform_to_geolocation(car.get_location())\n",
    "print(my_geolocation)"
   ]
  },
  {
   "cell_type": "code",
   "execution_count": 4,
   "metadata": {},
   "outputs": [],
   "source": [
    "car.set_pose(8.356965, 60.282341, -176)\n",
    "car.stop()"
   ]
  },
  {
   "cell_type": "code",
   "execution_count": 5,
   "metadata": {},
   "outputs": [],
   "source": [
    "# import math\n",
    "# import time\n",
    "# def euclidian_dist(l1, l2) -> float:\n",
    "#     return math.sqrt((l2.y - l1.y)**2 + (l2.x - l1.x)**2)\n",
    "\n",
    "# l1 = car.get_location()\n",
    "# l2 = car.get_location()\n",
    "\n",
    "# file = io.open(\"goals.txt\", mode=\"w\")\n",
    "\n",
    "# while True:\n",
    "#     l2 = car.get_location()\n",
    "#     if euclidian_dist(l1, l2) > 0.1:\n",
    "#         print (\".\")\n",
    "#         file.write(f\"{l2.x}, {l2.y}\\n\")\n",
    "#         l1 = l2\n",
    "#     time.sleep(0.5)\n",
    "\n"
   ]
  },
  {
   "cell_type": "code",
   "execution_count": 6,
   "metadata": {},
   "outputs": [],
   "source": [
    "# file.close()"
   ]
  },
  {
   "cell_type": "code",
   "execution_count": null,
   "metadata": {},
   "outputs": [],
   "source": []
  },
  {
   "cell_type": "code",
   "execution_count": 8,
   "metadata": {},
   "outputs": [],
   "source": [
    "import time\n",
    "car.set_pose(8.356965, 60.282341, -176)\n",
    "car.stop()\n",
    "file = io.open(\"goals.txt\", \"r\")\n",
    "for l in file.readlines():\n",
    "    p = l.split(',')\n",
    "    car.drive_to(float(p[0]),float(p[1]))\n",
    "    time.sleep(0.3)"
   ]
  },
  {
   "cell_type": "code",
   "execution_count": null,
   "metadata": {},
   "outputs": [],
   "source": [
    "import time\n",
    "location = car.get_location()\n",
    "car.forward()\n",
    "time.sleep(1)\n",
    "car.stop()\n",
    "location2 = car.get_location()\n",
    "print(car._compute_azimuth(location.x, location.y, location2.x, location2.y))\n",
    "print(f\"X:{location.x} --> {location2.x}, Y:{location.y} --> {location2.y}\")\n",
    "\n",
    "head_x = location2.x > location.x\n",
    "head_y = location2.y > location.y\n",
    "\n",
    "print(f\"head_x: {head_x} / head_y: {head_y}\")\n"
   ]
  },
  {
   "cell_type": "markdown",
   "metadata": {},
   "source": [
    "89.98545451652733\n",
    "X:15.604449272155762 --> 15.604424476623535, Y:59.194305419921875 --> 59.29197692871094\n",
    "head_x: False / head_y: True"
   ]
  },
  {
   "cell_type": "code",
   "execution_count": null,
   "metadata": {},
   "outputs": [],
   "source": [
    "print(car.get_location())"
   ]
  },
  {
   "cell_type": "code",
   "execution_count": null,
   "metadata": {},
   "outputs": [],
   "source": [
    "print(car.get_actor().get_velocity())"
   ]
  },
  {
   "cell_type": "code",
   "execution_count": null,
   "metadata": {},
   "outputs": [],
   "source": [
    "def move_car(x_start: int, inc: int, angle: float):\n",
    "    x = x_start\n",
    "\n",
    "    car.forward()\n",
    "    car.steer(angle)  \n",
    "    while angle >= 0 and x < x_start + inc:\n",
    "        current_location = car.get_location()\n",
    "        x = current_location.x\n",
    "\n",
    "    while angle < 0 and x > x_start - inc:\n",
    "        current_location = car.get_location()\n",
    "        x = current_location.x\n",
    "\n",
    "   \n",
    "    car.steer(0)  \n",
    "    car.stop()\n",
    "    car.update_location_cache()\n",
    "\n",
    "\n",
    "            "
   ]
  },
  {
   "cell_type": "code",
   "execution_count": null,
   "metadata": {},
   "outputs": [],
   "source": [
    "current_location = car.get_location()\n",
    "\n",
    "next_location_x = current_location.x + 2\n",
    "next_location_y = current_location.y\n",
    "\n",
    "print(car.compute_heading())\n",
    "angle = car.compute_angle_to_next_point(next_location_x, next_location_y)\n",
    "print(angle)\n",
    "\n",
    "move_car(current_location.x, 2, angle)\n",
    "    \n",
    "#car.steer(angle)\n",
    "# car.forward()\n",
    "\n",
    "# l = current_location.x\n",
    "# while l < next_location_x:\n",
    "#     current_location = car.get_location()\n",
    "#     l = current_location.x\n",
    "#     print(f\" l = {l}, next_location_x={next_location_x}\")\n",
    "\n",
    "\n",
    "# car.stop()"
   ]
  }
 ],
 "metadata": {
  "kernelspec": {
   "display_name": "Python 3 (ipykernel)",
   "language": "python",
   "name": "python3"
  },
  "language_info": {
   "codemirror_mode": {
    "name": "ipython",
    "version": 3
   },
   "file_extension": ".py",
   "mimetype": "text/x-python",
   "name": "python",
   "nbconvert_exporter": "python",
   "pygments_lexer": "ipython3",
   "version": "3.10.12"
  }
 },
 "nbformat": 4,
 "nbformat_minor": 2
}
