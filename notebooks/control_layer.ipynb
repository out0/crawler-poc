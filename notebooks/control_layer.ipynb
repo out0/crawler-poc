{
 "cells": [
  {
   "cell_type": "code",
   "execution_count": 1,
   "metadata": {},
   "outputs": [
    {
     "name": "stderr",
     "output_type": "stream",
     "text": [
      "/workspaces/crawler-poc/notebooks/../carlasim/video_streamer.py:1: PyGIWarning: Gst was imported without specifying a version first. Use gi.require_version('Gst', '1.0') before import to ensure that the right version gets loaded.\n",
      "  from gi.repository import Gst\n"
     ]
    }
   ],
   "source": [
    "import sys\n",
    "sys.path.append(\"..\")\n",
    "from carlasim.vehicle_hal import EgoCar\n",
    "from carlasim.carla_client import CarlaClient\n",
    "from carlasim.remote_controller import RemoteController\n",
    "from carlasim.mqtt_client import MqttClient\n",
    "from planner.vehicle_pose import VehiclePose\n",
    "import io, math\n",
    "\n",
    "client = CarlaClient(town='Town07')\n",
    "car = EgoCar(client).build()\n",
    "    "
   ]
  },
  {
   "cell_type": "code",
   "execution_count": 2,
   "metadata": {},
   "outputs": [],
   "source": [
    "def on_autonomous_driving_state_change(val: bool):\n",
    "    pass\n",
    "\n",
    "manual_control = RemoteController(MqttClient('127.0.0.1', 1883), car.get_actor(), on_autonomous_driving_state_change)\n",
    "\n",
    "def set_pose(car: EgoCar, pose: VehiclePose) -> None:\n",
    "    car.set_pose(pose.x, pose.y, pose.heading)\n",
    "\n",
    "p1 = VehiclePose(0.0006331629119813442,0,-0.0035400392953306437)\n",
    "p2 = VehiclePose(38.47003173828125,-0.027387749403715134,-0.042144775390625)    "
   ]
  },
  {
   "cell_type": "code",
   "execution_count": 4,
   "metadata": {},
   "outputs": [],
   "source": [
    "set_pose(car, p1)"
   ]
  },
  {
   "cell_type": "code",
   "execution_count": null,
   "metadata": {},
   "outputs": [],
   "source": [
    "set_pose(car, p2)"
   ]
  },
  {
   "cell_type": "code",
   "execution_count": 5,
   "metadata": {},
   "outputs": [
    {
     "name": "stdout",
     "output_type": "stream",
     "text": [
      "-0.04079092068471685\n",
      "-0.04079092068471685\n"
     ]
    }
   ],
   "source": [
    "dx = p2.x - p1.x\n",
    "dy = p2.y - p1.y\n",
    "\n",
    "angle1 = math.atan(dy/dx)\n",
    "angle2 = math.atan2(dy,dx)\n",
    "\n",
    "print (math.degrees(angle1))\n",
    "print (math.degrees(angle2))"
   ]
  }
 ],
 "metadata": {
  "kernelspec": {
   "display_name": "Python 3 (ipykernel)",
   "language": "python",
   "name": "python3"
  },
  "language_info": {
   "codemirror_mode": {
    "name": "ipython",
    "version": 3
   },
   "file_extension": ".py",
   "mimetype": "text/x-python",
   "name": "python",
   "nbconvert_exporter": "python",
   "pygments_lexer": "ipython3",
   "version": "3.10.12"
  }
 },
 "nbformat": 4,
 "nbformat_minor": 2
}
