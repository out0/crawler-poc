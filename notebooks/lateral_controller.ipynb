{
 "cells": [
  {
   "cell_type": "code",
   "execution_count": 1,
   "metadata": {},
   "outputs": [
    {
     "name": "stderr",
     "output_type": "stream",
     "text": [
      "/workspaces/crawler-poc/notebooks/../carlasim/video_streamer.py:1: PyGIWarning: Gst was imported without specifying a version first. Use gi.require_version('Gst', '1.0') before import to ensure that the right version gets loaded.\n",
      "  from gi.repository import Gst\n"
     ]
    },
    {
     "data": {
      "text/plain": [
       "[]"
      ]
     },
     "execution_count": 1,
     "metadata": {},
     "output_type": "execute_result"
    }
   ],
   "source": [
    "import sys, time\n",
    "sys.path.append(\"..\")\n",
    "from motion.motion_controller import LateralController\n",
    "from carlasim.carla_client import CarlaClient\n",
    "from carlasim.ego_car import EgoCar\n",
    "from planner.stub_slam import StubSLAM\n",
    "from planner.stub_global_planner import StubGlobalPlanner\n",
    "\n",
    "import carla\n",
    "\n",
    "import gi\n",
    "gi.require_version('Gst', '1.0')\n",
    "gi.require_version('GstRtspServer', '1.0')\n",
    "from gi.repository import Gst, GLib\n",
    "Gst.init(None)"
   ]
  },
  {
   "cell_type": "code",
   "execution_count": 2,
   "metadata": {},
   "outputs": [],
   "source": [
    "StartPosition = ['Town07', -100, 0, 0, 0.0]\n",
    "global_planner = StubGlobalPlanner()\n",
    "global_planner.read_mission(\"./small_mission.dat\")\n",
    "client = CarlaClient(town=StartPosition[0])\n",
    "ego = EgoCar(client)\n",
    "ego.set_pose(StartPosition[1], StartPosition[2], StartPosition[3], StartPosition[4])\n",
    "ego.set_power(0)\n",
    "ego.set_steering(0)"
   ]
  },
  {
   "cell_type": "code",
   "execution_count": 3,
   "metadata": {},
   "outputs": [],
   "source": [
    "from model.vehicle_pose import VehiclePose\n",
    "def draw_pose(p: VehiclePose):\n",
    "     world = client.get_world()\n",
    "     world.debug.draw_string(carla.Location(p.x, p.y, 2), 'X', draw_shadow=False,\n",
    "                                        color=carla.Color(r=0, g=0, b=255), life_time=12000.0,\n",
    "                                        persistent_lines=True)"
   ]
  },
  {
   "cell_type": "code",
   "execution_count": 4,
   "metadata": {},
   "outputs": [],
   "source": [
    "world = client.get_world()\n",
    "\n",
    "for w in global_planner.get_all_poses():    \n",
    "    world.debug.draw_string(carla.Location(w.x, w.y, 2), 'O', draw_shadow=False,\n",
    "                                       color=carla.Color(r=255, g=0, b=0), life_time=12000.0,\n",
    "                                       persistent_lines=True)"
   ]
  },
  {
   "cell_type": "code",
   "execution_count": 8,
   "metadata": {},
   "outputs": [],
   "source": [
    "def set_sterr(angle: float) -> None:\n",
    "    ego.set_steering(angle)\n",
    "    pass\n",
    "\n",
    "def invalid_path() -> None:\n",
    "    print(\"motion has reached an invalid path\")\n",
    "\n",
    "slam = StubSLAM(ego)\n",
    "\n",
    "ctrl = LateralController (\n",
    "    vehicle_length=2,\n",
    "    #odometer=lambda : ego.odometer.read(),\n",
    "    odometer=lambda : 10,\n",
    "    steering_actuator=lambda a : set_sterr(a),\n",
    "    slam_find_current_pose=lambda : slam.estimate_ego_pose()\n",
    ")\n",
    "\n",
    "path = global_planner.get_all_poses()\n",
    "\n",
    "\n"
   ]
  },
  {
   "cell_type": "code",
   "execution_count": 84,
   "metadata": {},
   "outputs": [],
   "source": [
    "from motion.path_position_finder import PathPositionFinder\n",
    "finder = PathPositionFinder(path)\n",
    "ego.set_pose(-100,0,0,0)\n",
    "ego.set_steering(0)\n",
    "time.sleep(0.5)\n",
    "pos = 0"
   ]
  },
  {
   "cell_type": "code",
   "execution_count": 91,
   "metadata": {},
   "outputs": [
    {
     "name": "stdout",
     "output_type": "stream",
     "text": [
      "path_heading = -0.5345248312874611, vehicle heading: -5.540775299072266\n",
      "[2] new heading computed: 1.9452060634203885\n",
      "[2] ke = -0.5347619146223249, he = 0.08737555384235116\n"
     ]
    }
   ],
   "source": [
    "i = finder.find_next_pos(pos, slam.estimate_ego_pose())\n",
    "\n",
    "if i > 0:\n",
    "    pos = i\n",
    "    \n",
    "ctrl.set_reference_path(path[pos], path[pos+1])\n",
    "ctrl.loop(2)\n",
    "ego.set_brake(0)\n",
    "ego.set_power(100)\n",
    "time.sleep(1)\n",
    "ego.set_power(0)\n",
    "ego.set_brake(1)"
   ]
  },
  {
   "cell_type": "code",
   "execution_count": 12,
   "metadata": {},
   "outputs": [],
   "source": [
    "ego.set_pose(-100,0,0,2.6510994423327623)\n",
    "draw_pose(path[4])\n",
    "draw_pose(path[5])"
   ]
  },
  {
   "cell_type": "code",
   "execution_count": null,
   "metadata": {},
   "outputs": [],
   "source": [
    "ego.set_brake(0)\n",
    "ego.set_power(100)\n",
    "time.sleep(1)\n",
    "ego.set_brake(1.0)\n",
    "ctrl.loop(1)\n"
   ]
  },
  {
   "cell_type": "code",
   "execution_count": null,
   "metadata": {},
   "outputs": [],
   "source": [
    "ctrl.set_reference_path(path[5], path[6])"
   ]
  },
  {
   "cell_type": "code",
   "execution_count": null,
   "metadata": {},
   "outputs": [],
   "source": [
    "ego.set_pose(-7,0,0,-27.51)"
   ]
  },
  {
   "cell_type": "code",
   "execution_count": null,
   "metadata": {},
   "outputs": [],
   "source": [
    "print(path[4])"
   ]
  },
  {
   "cell_type": "code",
   "execution_count": null,
   "metadata": {},
   "outputs": [],
   "source": [
    "print(path[5])"
   ]
  }
 ],
 "metadata": {
  "kernelspec": {
   "display_name": "Python 3",
   "language": "python",
   "name": "python3"
  },
  "language_info": {
   "codemirror_mode": {
    "name": "ipython",
    "version": 3
   },
   "file_extension": ".py",
   "mimetype": "text/x-python",
   "name": "python",
   "nbconvert_exporter": "python",
   "pygments_lexer": "ipython3",
   "version": "3.10.12"
  }
 },
 "nbformat": 4,
 "nbformat_minor": 2
}
