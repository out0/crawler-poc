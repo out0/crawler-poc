{
 "cells": [
  {
   "cell_type": "code",
   "execution_count": 1,
   "metadata": {},
   "outputs": [
    {
     "name": "stderr",
     "output_type": "stream",
     "text": [
      "/workspaces/crawler-poc/notebooks/../carlasim/video_streamer.py:1: PyGIWarning: Gst was imported without specifying a version first. Use gi.require_version('Gst', '1.0') before import to ensure that the right version gets loaded.\n",
      "  from gi.repository import Gst\n",
      "error: XDG_RUNTIME_DIR not set in the environment.\n"
     ]
    }
   ],
   "source": [
    "#https://ideepaksinghs.wordpress.com/2021/04/11/creating-a-self-driving-car-in-24-hour/\n",
    "import sys\n",
    "sys.path.append(\"..\")\n",
    "from carlasim.vehicle_hal import EgoCar\n",
    "from carlasim.carla_client import CarlaClient\n",
    "from carlasim.remote_controller import RemoteController\n",
    "from carlasim.mqtt_client import MqttClient\n",
    "from carlasim.frame_segment_converter_cuda import FrameSegmentConverterCuda\n",
    "from carlasim.video_streamer import VideoStreamer\n",
    "from planner.simple_slam import SimpleSlam\n",
    "from planner.waypoint import Waypoint\n",
    "import io\n",
    "\n",
    "import gi\n",
    "gi.require_version('Gst', '1.0')\n",
    "gi.require_version('GstRtspServer', '1.0')\n",
    "from gi.repository import Gst, GLib\n",
    "Gst.init(None)\n",
    "\n",
    "client = CarlaClient(town='Town07')\n",
    "segment_converter = FrameSegmentConverterCuda()\n"
   ]
  },
  {
   "cell_type": "code",
   "execution_count": 2,
   "metadata": {},
   "outputs": [],
   "source": [
    "car = EgoCar(client)\\\n",
    "    .with_bev_camera(20000, on_frame_callback=lambda f: car.send_bev_frame( segment_converter.convert_frame(VideoStreamer.to_rgb_array(f))))\\\n",
    "    .build()\n",
    "car.set_pose(0, 0, 0)"
   ]
  },
  {
   "cell_type": "code",
   "execution_count": 11,
   "metadata": {},
   "outputs": [
    {
     "ename": "",
     "evalue": "",
     "output_type": "error",
     "traceback": [
      "\u001b[1;31mThe Kernel crashed while executing code in the the current cell or a previous cell. Please review the code in the cell(s) to identify a possible cause of the failure. Click <a href='https://aka.ms/vscodeJupyterKernelCrash'>here</a> for more info. View Jupyter <a href='command:jupyter.viewOutput'>log</a> for further details."
     ]
    }
   ],
   "source": [
    "car.set_pose(0, 0, -180)"
   ]
  }
 ],
 "metadata": {
  "kernelspec": {
   "display_name": "Python 3 (ipykernel)",
   "language": "python",
   "name": "python3"
  },
  "language_info": {
   "codemirror_mode": {
    "name": "ipython",
    "version": 3
   },
   "file_extension": ".py",
   "mimetype": "text/x-python",
   "name": "python",
   "nbconvert_exporter": "python",
   "pygments_lexer": "ipython3",
   "version": "3.8.10"
  }
 },
 "nbformat": 4,
 "nbformat_minor": 4
}
