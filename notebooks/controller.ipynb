{
 "cells": [
  {
   "cell_type": "code",
   "execution_count": 1,
   "metadata": {},
   "outputs": [
    {
     "name": "stderr",
     "output_type": "stream",
     "text": [
      "/workspaces/crawler-poc/notebooks/../carlasim/video_streamer.py:1: PyGIWarning: Gst was imported without specifying a version first. Use gi.require_version('Gst', '1.0') before import to ensure that the right version gets loaded.\n",
      "  from gi.repository import Gst\n"
     ]
    },
    {
     "data": {
      "text/plain": [
       "[]"
      ]
     },
     "execution_count": 1,
     "metadata": {},
     "output_type": "execute_result"
    }
   ],
   "source": [
    "import sys, time\n",
    "sys.path.append(\"..\")\n",
    "from motion.longitudinal_controller import LongitudinalController\n",
    "from motion.lateral_controller import LateralController\n",
    "from carlasim.carla_client import CarlaClient\n",
    "from carlasim.ego_car import EgoCar\n",
    "from planner.stub_slam import StubSLAM\n",
    "from planner.stub_global_planner import StubGlobalPlanner\n",
    "from model.waypoint import DistWaypoint\n",
    "import carla\n",
    "\n",
    "import gi\n",
    "gi.require_version('Gst', '1.0')\n",
    "gi.require_version('GstRtspServer', '1.0')\n",
    "from gi.repository import Gst, GLib\n",
    "Gst.init(None)"
   ]
  },
  {
   "cell_type": "code",
   "execution_count": 2,
   "metadata": {},
   "outputs": [],
   "source": [
    "StartPosition = ['Town07', -100, 0, 0, 0.0]\n",
    "global_planner = StubGlobalPlanner()\n",
    "global_planner.read_mission(\"./small_mission.dat\")\n",
    "client = CarlaClient(town=StartPosition[0])\n",
    "ego = EgoCar(client)\n",
    "ego.set_pose(StartPosition[1], StartPosition[2], StartPosition[3], StartPosition[4])\n",
    "ego.set_power(0)\n",
    "ego.set_steering(0)"
   ]
  },
  {
   "cell_type": "code",
   "execution_count": 3,
   "metadata": {},
   "outputs": [],
   "source": [
    "from carlasim.mqtt_client import MqttClient\n",
    "from carlasim.ego_car_remote_controller import EgoCarRemoteController\n",
    "mqtt_client = MqttClient(\"10.0.1.5\", 1883)\n",
    "manual_control = EgoCarRemoteController(mqtt_client, ego)"
   ]
  },
  {
   "cell_type": "code",
   "execution_count": 4,
   "metadata": {},
   "outputs": [],
   "source": [
    "world = client.get_world()\n",
    "\n",
    "for w in global_planner.get_all_poses():    \n",
    "    world.debug.draw_string(carla.Location(w.x, w.y, 2), 'O', draw_shadow=False,\n",
    "                                       color=carla.Color(r=255, g=0, b=0), life_time=120.0,\n",
    "                                       persistent_lines=True)"
   ]
  },
  {
   "cell_type": "markdown",
   "metadata": {},
   "source": [
    "Lateral Controller"
   ]
  },
  {
   "cell_type": "code",
   "execution_count": 5,
   "metadata": {},
   "outputs": [],
   "source": [
    "def set_sterr(angle: float) -> None:\n",
    "    ego.set_steering(angle)\n",
    "    pass\n",
    "\n",
    "slam = StubSLAM(ego)\n",
    "\n",
    "# ctrl = LateralController(\n",
    "#     vehicle_length=2, \n",
    "#     slam_find_current_pose=lambda : slam.estimate_ego_pose(),\n",
    "#     odometer=lambda : ego.odometer.read(),\n",
    "#     set_steering_angle=lambda a : set_sterr(a))\n",
    "\n",
    "ctrl = LateralController(\n",
    "    vehicle_length=2, \n",
    "    slam_find_current_pose=lambda : slam.estimate_ego_pose(),\n",
    "    odometer=lambda : 10,\n",
    "    set_steering_angle=lambda a : set_sterr(a))"
   ]
  },
  {
   "cell_type": "code",
   "execution_count": 6,
   "metadata": {},
   "outputs": [],
   "source": [
    "poses = global_planner.get_all_poses()\n",
    "ctrl.set_reference_path(poses[0], poses[1])\n",
    "\n"
   ]
  },
  {
   "cell_type": "code",
   "execution_count": 9,
   "metadata": {},
   "outputs": [
    {
     "name": "stdout",
     "output_type": "stream",
     "text": [
      "[1] new heading computed: 40.0\n"
     ]
    }
   ],
   "source": [
    "ego.set_pose(-90, 0, 0, -42)\n",
    "time.sleep(0.5)\n",
    "ctrl.loop(1, world)"
   ]
  },
  {
   "cell_type": "code",
   "execution_count": 26,
   "metadata": {},
   "outputs": [],
   "source": [
    "ego.set_brake(0)\n",
    "ego.set_power(100)\n",
    "time.sleep(0.5)\n",
    "ego.set_power(0)\n",
    "ego.set_brake(1)"
   ]
  },
  {
   "cell_type": "code",
   "execution_count": 25,
   "metadata": {},
   "outputs": [
    {
     "name": "stdout",
     "output_type": "stream",
     "text": [
      "[1] new heading computed: -7.281221218160721\n"
     ]
    }
   ],
   "source": [
    "ctrl.loop(1, world)"
   ]
  },
  {
   "cell_type": "markdown",
   "metadata": {},
   "source": []
  }
 ],
 "metadata": {
  "kernelspec": {
   "display_name": "Python 3 (ipykernel)",
   "language": "python",
   "name": "python3"
  },
  "language_info": {
   "codemirror_mode": {
    "name": "ipython",
    "version": 3
   },
   "file_extension": ".py",
   "mimetype": "text/x-python",
   "name": "python",
   "nbconvert_exporter": "python",
   "pygments_lexer": "ipython3",
   "version": "3.10.12"
  }
 },
 "nbformat": 4,
 "nbformat_minor": 2
}
